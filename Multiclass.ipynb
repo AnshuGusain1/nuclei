{
 "cells": [
  {
   "cell_type": "code",
   "execution_count": 1,
   "metadata": {},
   "outputs": [],
   "source": [
    "from numpy.random.bit_generator import SeedlessSeedSequence\n",
    "import tensorflow as tf\n",
    "import os\n",
    "import numpy as np\n",
    "import random\n",
    "\n",
    "import pandas as pd \n",
    "#from tqdm import tqdm #Provides a progress bar while the images are being resized\n",
    "from skimage.io import imshow, imread\n",
    "from skimage.transform import resize\n",
    "from matplotlib import pyplot as plt\n",
    "from tensorflow.keras.preprocessing import image\n",
    "from tensorflow.keras.applications.resnet50 import preprocess_input, decode_predictions\n",
    "import tifffile as tiff \n",
    "from patchify import patchify, unpatchify\n",
    "from sklearn.model_selection import train_test_split\n",
    "from patchify import patchify\n",
    "from sklearn.metrics import jaccard_score,  accuracy_score, f1_score, make_scorer, mean_absolute_error\n",
    "from sklearn.ensemble import RandomForestRegressor\n",
    "from keras.utils.vis_utils import plot_model\n",
    "from sklearn.model_selection import cross_val_score\n",
    "from stardist import fill_label_holes, random_label_cmap, calculate_extents, gputools_available\n",
    "from glob import glob\n",
    "import cv2\n",
    "import random\n",
    "seed =42\n",
    "np.random.seed=42"
   ]
  },
  {
   "cell_type": "code",
   "execution_count": 4,
   "metadata": {},
   "outputs": [],
   "source": [
    "from keras.utils import normalize\n",
    "import os\n",
    "import glob\n",
    "import cv2\n",
    "import numpy as np\n",
    "from matplotlib import pyplot as plt"
   ]
  },
  {
   "cell_type": "code",
   "execution_count": 5,
   "metadata": {},
   "outputs": [],
   "source": [
    "SIZE_X = 256\n",
    "SIZE_Y = 256\n",
    "n_classes = 20"
   ]
  },
  {
   "cell_type": "code",
   "execution_count": 6,
   "metadata": {},
   "outputs": [],
   "source": [
    "train_images = []\n",
    "\n",
    "for directory_path in glob.glob(\"/Users/anshugusain/tf-nuclei/content/publicX/\"):\n",
    "    for img_path in glob.glob(os.path.join(directory_path, \"*.png\")):\n",
    "        img = cv2.imread(img_path, 0)       \n",
    "        img = cv2.resize(img, (SIZE_Y, SIZE_X))\n",
    "        train_images.append(img)\n",
    "\n",
    "train_images = np.array(train_images)"
   ]
  },
  {
   "cell_type": "code",
   "execution_count": 7,
   "metadata": {},
   "outputs": [],
   "source": [
    "train_masks = [] \n",
    "for directory_path in glob.glob(\"/Users/anshugusain/tf-nuclei/content/publicY/\"):\n",
    "    for mask_path in glob.glob(os.path.join(directory_path, \"*.png\")):\n",
    "        mask = cv2.imread(mask_path, 0)       \n",
    "        mask = cv2.resize(mask, (SIZE_Y, SIZE_X), interpolation = cv2.INTER_NEAREST)  #Otherwise ground truth changes due to interpolation\n",
    "        train_masks.append(mask)\n",
    "        \n",
    "#Convert list to array for machine learning processing          \n",
    "train_masks = np.array(train_masks)"
   ]
  },
  {
   "cell_type": "code",
   "execution_count": 8,
   "metadata": {},
   "outputs": [
    {
     "name": "stderr",
     "output_type": "stream",
     "text": [
      "_label.py (116): A column-vector y was passed when a 1d array was expected. Please change the shape of y to (n_samples, ), for example using ravel().\n"
     ]
    },
    {
     "data": {
      "text/plain": [
       "array([ 0,  1,  2,  3,  4,  5,  6,  7,  8,  9, 10, 11, 12, 13, 14, 15, 16,\n",
       "       17, 18, 19])"
      ]
     },
     "execution_count": 8,
     "metadata": {},
     "output_type": "execute_result"
    }
   ],
   "source": [
    "#Encode labels... but multi dim array so need to flatten, encode and reshape\n",
    "from sklearn.preprocessing import LabelEncoder\n",
    "labelencoder = LabelEncoder()\n",
    "n, h, w = train_masks.shape\n",
    "train_masks_reshaped = train_masks.reshape(-1,1)\n",
    "train_masks_reshaped_encoded = labelencoder.fit_transform(train_masks_reshaped)\n",
    "train_masks_encoded_original_shape = train_masks_reshaped_encoded.reshape(n, h, w)\n",
    "\n",
    "np.unique(train_masks_encoded_original_shape)\n"
   ]
  },
  {
   "cell_type": "code",
   "execution_count": 9,
   "metadata": {},
   "outputs": [],
   "source": [
    "train_images = np.expand_dims(train_images, axis=3)\n",
    "train_images = normalize(train_images, axis=1)\n",
    "\n",
    "train_masks_input = np.expand_dims(train_masks_encoded_original_shape, axis=3)"
   ]
  },
  {
   "cell_type": "code",
   "execution_count": 10,
   "metadata": {},
   "outputs": [
    {
     "name": "stdout",
     "output_type": "stream",
     "text": [
      "Class values in the dataset are ...  [ 0  1  2  3  4  5  6  7  8  9 11 12 13 14 15 16 17 18 19]\n"
     ]
    }
   ],
   "source": [
    "from sklearn.model_selection import train_test_split\n",
    "X1, X_test, y1, y_test = train_test_split(train_images, train_masks_input, test_size = 0.10, random_state = 0)\n",
    "\n",
    "#Further split training data t a smaller subset for quick testing of models\n",
    "X_train, X_do_not_use, y_train, y_do_not_use = train_test_split(X1, y1, test_size = 0.2, random_state = 0)\n",
    "\n",
    "print(\"Class values in the dataset are ... \", np.unique(y_train))  # 0 is the background/few unlabeled \n",
    "\n",
    "from keras.utils import to_categorical\n",
    "train_masks_cat = to_categorical(y_train, num_classes=n_classes)\n",
    "\n",
    "y_train_cat = train_masks_cat.reshape((y_train.shape[0], y_train.shape[1], y_train.shape[2], n_classes))\n",
    "\n",
    "\n",
    "\n",
    "test_masks_cat = to_categorical(y_test, num_classes=n_classes)\n",
    "y_test_cat = test_masks_cat.reshape((y_test.shape[0], y_test.shape[1], y_test.shape[2], n_classes))\n"
   ]
  },
  {
   "cell_type": "code",
   "execution_count": 11,
   "metadata": {},
   "outputs": [],
   "source": [
    "from sklearn.utils import class_weight\n",
    "weight = class_weight.compute_class_weight(class_weight='balanced', classes = np.unique(train_masks_reshaped_encoded),y= train_masks_reshaped_encoded)\n",
    "weight = {i : weight[i] for i in range(20)}\n",
    "\n",
    "\n",
    "IMG_HEIGHT = X_train.shape[1]\n",
    "IMG_WIDTH  = X_train.shape[2]\n",
    "IMG_CHANNELS = X_train.shape[3]"
   ]
  },
  {
   "cell_type": "code",
   "execution_count": 12,
   "metadata": {},
   "outputs": [
    {
     "name": "stdout",
     "output_type": "stream",
     "text": [
      "Metal device set to: Apple M2 Pro\n"
     ]
    },
    {
     "name": "stderr",
     "output_type": "stream",
     "text": [
      "2023-05-21 15:42:22.057397: I tensorflow/core/common_runtime/pluggable_device/pluggable_device_factory.cc:306] Could not identify NUMA node of platform GPU ID 0, defaulting to 0. Your kernel may not have been built with NUMA support.\n",
      "2023-05-21 15:42:22.057887: I tensorflow/core/common_runtime/pluggable_device/pluggable_device_factory.cc:272] Created TensorFlow device (/job:localhost/replica:0/task:0/device:GPU:0 with 0 MB memory) -> physical PluggableDevice (device: 0, name: METAL, pci bus id: <undefined>)\n"
     ]
    },
    {
     "name": "stdout",
     "output_type": "stream",
     "text": [
      "Model: \"model\"\n",
      "__________________________________________________________________________________________________\n",
      " Layer (type)                   Output Shape         Param #     Connected to                     \n",
      "==================================================================================================\n",
      " input_1 (InputLayer)           [(None, 256, 256, 1  0           []                               \n",
      "                                )]                                                                \n",
      "                                                                                                  \n",
      " conv2d (Conv2D)                (None, 256, 256, 16  160         ['input_1[0][0]']                \n",
      "                                )                                                                 \n",
      "                                                                                                  \n",
      " dropout (Dropout)              (None, 256, 256, 16  0           ['conv2d[0][0]']                 \n",
      "                                )                                                                 \n",
      "                                                                                                  \n",
      " conv2d_1 (Conv2D)              (None, 256, 256, 16  2320        ['dropout[0][0]']                \n",
      "                                )                                                                 \n",
      "                                                                                                  \n",
      " max_pooling2d (MaxPooling2D)   (None, 128, 128, 16  0           ['conv2d_1[0][0]']               \n",
      "                                )                                                                 \n",
      "                                                                                                  \n",
      " conv2d_2 (Conv2D)              (None, 128, 128, 32  4640        ['max_pooling2d[0][0]']          \n",
      "                                )                                                                 \n",
      "                                                                                                  \n",
      " dropout_1 (Dropout)            (None, 128, 128, 32  0           ['conv2d_2[0][0]']               \n",
      "                                )                                                                 \n",
      "                                                                                                  \n",
      " conv2d_3 (Conv2D)              (None, 128, 128, 32  9248        ['dropout_1[0][0]']              \n",
      "                                )                                                                 \n",
      "                                                                                                  \n",
      " max_pooling2d_1 (MaxPooling2D)  (None, 64, 64, 32)  0           ['conv2d_3[0][0]']               \n",
      "                                                                                                  \n",
      " conv2d_4 (Conv2D)              (None, 64, 64, 64)   18496       ['max_pooling2d_1[0][0]']        \n",
      "                                                                                                  \n",
      " dropout_2 (Dropout)            (None, 64, 64, 64)   0           ['conv2d_4[0][0]']               \n",
      "                                                                                                  \n",
      " conv2d_5 (Conv2D)              (None, 64, 64, 64)   36928       ['dropout_2[0][0]']              \n",
      "                                                                                                  \n",
      " max_pooling2d_2 (MaxPooling2D)  (None, 32, 32, 64)  0           ['conv2d_5[0][0]']               \n",
      "                                                                                                  \n",
      " conv2d_6 (Conv2D)              (None, 32, 32, 128)  73856       ['max_pooling2d_2[0][0]']        \n",
      "                                                                                                  \n",
      " dropout_3 (Dropout)            (None, 32, 32, 128)  0           ['conv2d_6[0][0]']               \n",
      "                                                                                                  \n",
      " conv2d_7 (Conv2D)              (None, 32, 32, 128)  147584      ['dropout_3[0][0]']              \n",
      "                                                                                                  \n",
      " max_pooling2d_3 (MaxPooling2D)  (None, 16, 16, 128)  0          ['conv2d_7[0][0]']               \n",
      "                                                                                                  \n",
      " conv2d_8 (Conv2D)              (None, 16, 16, 256)  295168      ['max_pooling2d_3[0][0]']        \n",
      "                                                                                                  \n",
      " dropout_4 (Dropout)            (None, 16, 16, 256)  0           ['conv2d_8[0][0]']               \n",
      "                                                                                                  \n",
      " conv2d_9 (Conv2D)              (None, 16, 16, 256)  590080      ['dropout_4[0][0]']              \n",
      "                                                                                                  \n",
      " conv2d_transpose (Conv2DTransp  (None, 32, 32, 128)  131200     ['conv2d_9[0][0]']               \n",
      " ose)                                                                                             \n",
      "                                                                                                  \n",
      " concatenate (Concatenate)      (None, 32, 32, 256)  0           ['conv2d_transpose[0][0]',       \n",
      "                                                                  'conv2d_7[0][0]']               \n",
      "                                                                                                  \n",
      " conv2d_10 (Conv2D)             (None, 32, 32, 128)  295040      ['concatenate[0][0]']            \n",
      "                                                                                                  \n",
      " dropout_5 (Dropout)            (None, 32, 32, 128)  0           ['conv2d_10[0][0]']              \n",
      "                                                                                                  \n",
      " conv2d_11 (Conv2D)             (None, 32, 32, 128)  147584      ['dropout_5[0][0]']              \n",
      "                                                                                                  \n",
      " conv2d_transpose_1 (Conv2DTran  (None, 64, 64, 64)  32832       ['conv2d_11[0][0]']              \n",
      " spose)                                                                                           \n",
      "                                                                                                  \n",
      " concatenate_1 (Concatenate)    (None, 64, 64, 128)  0           ['conv2d_transpose_1[0][0]',     \n",
      "                                                                  'conv2d_5[0][0]']               \n",
      "                                                                                                  \n",
      " conv2d_12 (Conv2D)             (None, 64, 64, 64)   73792       ['concatenate_1[0][0]']          \n",
      "                                                                                                  \n",
      " dropout_6 (Dropout)            (None, 64, 64, 64)   0           ['conv2d_12[0][0]']              \n",
      "                                                                                                  \n",
      " conv2d_13 (Conv2D)             (None, 64, 64, 64)   36928       ['dropout_6[0][0]']              \n",
      "                                                                                                  \n",
      " conv2d_transpose_2 (Conv2DTran  (None, 128, 128, 32  8224       ['conv2d_13[0][0]']              \n",
      " spose)                         )                                                                 \n",
      "                                                                                                  \n",
      " concatenate_2 (Concatenate)    (None, 128, 128, 64  0           ['conv2d_transpose_2[0][0]',     \n",
      "                                )                                 'conv2d_3[0][0]']               \n",
      "                                                                                                  \n",
      " conv2d_14 (Conv2D)             (None, 128, 128, 32  18464       ['concatenate_2[0][0]']          \n",
      "                                )                                                                 \n",
      "                                                                                                  \n",
      " dropout_7 (Dropout)            (None, 128, 128, 32  0           ['conv2d_14[0][0]']              \n",
      "                                )                                                                 \n",
      "                                                                                                  \n",
      " conv2d_15 (Conv2D)             (None, 128, 128, 32  9248        ['dropout_7[0][0]']              \n",
      "                                )                                                                 \n",
      "                                                                                                  \n",
      " conv2d_transpose_3 (Conv2DTran  (None, 256, 256, 16  2064       ['conv2d_15[0][0]']              \n",
      " spose)                         )                                                                 \n",
      "                                                                                                  \n",
      " concatenate_3 (Concatenate)    (None, 256, 256, 32  0           ['conv2d_transpose_3[0][0]',     \n",
      "                                )                                 'conv2d_1[0][0]']               \n",
      "                                                                                                  \n",
      " conv2d_16 (Conv2D)             (None, 256, 256, 16  4624        ['concatenate_3[0][0]']          \n",
      "                                )                                                                 \n",
      "                                                                                                  \n",
      " dropout_8 (Dropout)            (None, 256, 256, 16  0           ['conv2d_16[0][0]']              \n",
      "                                )                                                                 \n",
      "                                                                                                  \n",
      " conv2d_17 (Conv2D)             (None, 256, 256, 16  2320        ['dropout_8[0][0]']              \n",
      "                                )                                                                 \n",
      "                                                                                                  \n",
      " conv2d_18 (Conv2D)             (None, 256, 256, 20  340         ['conv2d_17[0][0]']              \n",
      "                                )                                                                 \n",
      "                                                                                                  \n",
      "==================================================================================================\n",
      "Total params: 1,941,140\n",
      "Trainable params: 1,941,140\n",
      "Non-trainable params: 0\n",
      "__________________________________________________________________________________________________\n"
     ]
    }
   ],
   "source": [
    "inputs = tf.keras.layers.Input((IMG_HEIGHT, IMG_WIDTH, IMG_CHANNELS))\n",
    "s = tf.keras.layers.Lambda(lambda x: x / 255)(inputs)   #No need for this if we normalize our inputs beforehand\n",
    "s = inputs\n",
    "\n",
    "#Contraction path\n",
    "c1 = tf.keras.layers.Conv2D(16, (3, 3), activation='relu', kernel_initializer='he_normal', padding='same')(s)\n",
    "c1 = tf.keras.layers.Dropout(0.1)(c1)\n",
    "c1 = tf.keras.layers.Conv2D(16, (3, 3), activation='relu', kernel_initializer='he_normal', padding='same')(c1)\n",
    "p1 = tf.keras.layers.MaxPooling2D((2, 2))(c1)\n",
    "\n",
    "c2 = tf.keras.layers.Conv2D(32, (3, 3), activation='relu', kernel_initializer='he_normal', padding='same')(p1)\n",
    "c2 = tf.keras.layers.Dropout(0.1)(c2)\n",
    "c2 = tf.keras.layers.Conv2D(32, (3, 3), activation='relu', kernel_initializer='he_normal', padding='same')(c2)\n",
    "p2 = tf.keras.layers.MaxPooling2D((2, 2))(c2)\n",
    "    \n",
    "c3 = tf.keras.layers.Conv2D(64, (3, 3), activation='relu', kernel_initializer='he_normal', padding='same')(p2)\n",
    "c3 = tf.keras.layers.Dropout(0.2)(c3)\n",
    "c3 = tf.keras.layers.Conv2D(64, (3, 3), activation='relu', kernel_initializer='he_normal', padding='same')(c3)\n",
    "p3 = tf.keras.layers.MaxPooling2D((2, 2))(c3)\n",
    "    \n",
    "c4 = tf.keras.layers.Conv2D(128, (3, 3), activation='relu', kernel_initializer='he_normal', padding='same')(p3)\n",
    "c4 = tf.keras.layers.Dropout(0.2)(c4)\n",
    "c4 = tf.keras.layers.Conv2D(128, (3, 3), activation='relu', kernel_initializer='he_normal', padding='same')(c4)\n",
    "p4 = tf.keras.layers.MaxPooling2D(pool_size=(2, 2))(c4)\n",
    "    \n",
    "c5 = tf.keras.layers.Conv2D(256, (3, 3), activation='relu', kernel_initializer='he_normal', padding='same')(p4)\n",
    "c5 = tf.keras.layers.Dropout(0.3)(c5)\n",
    "c5 = tf.keras.layers.Conv2D(256, (3, 3), activation='relu', kernel_initializer='he_normal', padding='same')(c5)\n",
    "\n",
    "#Expansive path \n",
    "u6 = tf.keras.layers.Conv2DTranspose(128, (2, 2), strides=(2, 2), padding='same')(c5)\n",
    "u6 = tf.keras.layers.concatenate([u6, c4])\n",
    "c6 = tf.keras.layers.Conv2D(128, (3, 3), activation='relu', kernel_initializer='he_normal', padding='same')(u6)\n",
    "c6 = tf.keras.layers.Dropout(0.2)(c6)\n",
    "c6 = tf.keras.layers.Conv2D(128, (3, 3), activation='relu', kernel_initializer='he_normal', padding='same')(c6)\n",
    "    \n",
    "u7 = tf.keras.layers.Conv2DTranspose(64, (2, 2), strides=(2, 2), padding='same')(c6)\n",
    "u7 = tf.keras.layers.concatenate([u7, c3])\n",
    "c7 = tf.keras.layers.Conv2D(64, (3, 3), activation='relu', kernel_initializer='he_normal', padding='same')(u7)\n",
    "c7 = tf.keras.layers.Dropout(0.2)(c7)\n",
    "c7 = tf.keras.layers.Conv2D(64, (3, 3), activation='relu', kernel_initializer='he_normal', padding='same')(c7)\n",
    "    \n",
    "u8 = tf.keras.layers.Conv2DTranspose(32, (2, 2), strides=(2, 2), padding='same')(c7)\n",
    "u8 = tf.keras.layers.concatenate([u8, c2])\n",
    "c8 = tf.keras.layers.Conv2D(32, (3, 3), activation='relu', kernel_initializer='he_normal', padding='same')(u8)\n",
    "c8 = tf.keras.layers.Dropout(0.1)(c8)\n",
    "c8 = tf.keras.layers.Conv2D(32, (3, 3), activation='relu', kernel_initializer='he_normal', padding='same')(c8)\n",
    "    \n",
    "u9 = tf.keras.layers.Conv2DTranspose(16, (2, 2), strides=(2, 2), padding='same')(c8)\n",
    "u9 = tf.keras.layers.concatenate([u9, c1], axis=3)\n",
    "c9 = tf.keras.layers.Conv2D(16, (3, 3), activation='relu', kernel_initializer='he_normal', padding='same')(u9)\n",
    "c9 = tf.keras.layers.Dropout(0.1)(c9)\n",
    "c9 = tf.keras.layers.Conv2D(16, (3, 3), activation='relu', kernel_initializer='he_normal', padding='same')(c9)\n",
    "    \n",
    "outputs = tf.keras.layers.Conv2D(n_classes, (1, 1), activation='softmax')(c9)\n",
    "    \n",
    "model = tf.keras.Model(inputs=[inputs], outputs=[outputs])\n",
    "\n",
    "#NOTE: Compile the model in the main program to make it easy to test with various loss functions\n",
    "model.compile(optimizer=tf.keras.optimizers.legacy.Adam(), loss='categorical_crossentropy', metrics=['accuracy'], sample_weight_mode='temporal')\n",
    "\n",
    "#loss = 'focal_loss'\n",
    "\n",
    "model.summary()"
   ]
  },
  {
   "cell_type": "code",
   "execution_count": 13,
   "metadata": {},
   "outputs": [
    {
     "name": "stdout",
     "output_type": "stream",
     "text": [
      "Epoch 1/45\n"
     ]
    },
    {
     "name": "stderr",
     "output_type": "stream",
     "text": [
      "2023-05-21 15:42:25.488150: W tensorflow/tsl/platform/profile_utils/cpu_utils.cc:128] Failed to get CPU frequency: 0 Hz\n",
      "2023-05-21 15:42:25.973196: I tensorflow/core/grappler/optimizers/custom_graph_optimizer_registry.cc:114] Plugin optimizer for device_type GPU is enabled.\n"
     ]
    },
    {
     "name": "stdout",
     "output_type": "stream",
     "text": [
      "3/3 [==============================] - 2s 379ms/step - loss: 3.0003 - accuracy: 0.0893 - val_loss: 2.7220 - val_accuracy: 0.4898\n",
      "Epoch 2/45\n"
     ]
    },
    {
     "name": "stderr",
     "output_type": "stream",
     "text": [
      "2023-05-21 15:42:27.281336: I tensorflow/core/grappler/optimizers/custom_graph_optimizer_registry.cc:114] Plugin optimizer for device_type GPU is enabled.\n"
     ]
    },
    {
     "name": "stdout",
     "output_type": "stream",
     "text": [
      "3/3 [==============================] - 0s 137ms/step - loss: 2.5887 - accuracy: 0.4947 - val_loss: 2.7786 - val_accuracy: 0.7204\n",
      "Epoch 3/45\n",
      "3/3 [==============================] - 0s 132ms/step - loss: 2.5917 - accuracy: 0.6922 - val_loss: 2.4512 - val_accuracy: 0.7281\n",
      "Epoch 4/45\n",
      "3/3 [==============================] - 0s 131ms/step - loss: 1.9435 - accuracy: 0.7266 - val_loss: 1.5268 - val_accuracy: 0.7292\n",
      "Epoch 5/45\n",
      "3/3 [==============================] - 0s 132ms/step - loss: 1.4068 - accuracy: 0.7483 - val_loss: 1.5953 - val_accuracy: 0.7292\n",
      "Epoch 6/45\n",
      "3/3 [==============================] - 0s 132ms/step - loss: 1.2667 - accuracy: 0.7515 - val_loss: 1.2981 - val_accuracy: 0.7292\n",
      "Epoch 7/45\n",
      "3/3 [==============================] - 0s 131ms/step - loss: 1.1737 - accuracy: 0.7517 - val_loss: 1.1846 - val_accuracy: 0.7292\n",
      "Epoch 8/45\n",
      "3/3 [==============================] - 0s 131ms/step - loss: 1.1281 - accuracy: 0.7515 - val_loss: 1.3025 - val_accuracy: 0.7292\n",
      "Epoch 9/45\n",
      "3/3 [==============================] - 0s 142ms/step - loss: 1.1352 - accuracy: 0.7513 - val_loss: 1.2409 - val_accuracy: 0.7292\n",
      "Epoch 10/45\n",
      "3/3 [==============================] - 0s 141ms/step - loss: 1.1035 - accuracy: 0.7515 - val_loss: 1.1378 - val_accuracy: 0.7292\n",
      "Epoch 11/45\n",
      "3/3 [==============================] - 0s 134ms/step - loss: 1.0727 - accuracy: 0.7517 - val_loss: 1.2024 - val_accuracy: 0.7292\n",
      "Epoch 12/45\n",
      "3/3 [==============================] - 0s 135ms/step - loss: 1.0621 - accuracy: 0.7518 - val_loss: 1.2163 - val_accuracy: 0.7292\n",
      "Epoch 13/45\n",
      "3/3 [==============================] - 0s 133ms/step - loss: 1.0527 - accuracy: 0.7518 - val_loss: 1.1382 - val_accuracy: 0.7292\n",
      "Epoch 14/45\n",
      "3/3 [==============================] - 0s 141ms/step - loss: 1.0328 - accuracy: 0.7519 - val_loss: 1.1471 - val_accuracy: 0.7292\n",
      "Epoch 15/45\n",
      "3/3 [==============================] - 0s 132ms/step - loss: 1.0220 - accuracy: 0.7519 - val_loss: 1.1609 - val_accuracy: 0.7292\n",
      "Epoch 16/45\n",
      "3/3 [==============================] - 0s 137ms/step - loss: 1.0156 - accuracy: 0.7519 - val_loss: 1.1095 - val_accuracy: 0.7292\n",
      "Epoch 17/45\n",
      "3/3 [==============================] - 0s 140ms/step - loss: 0.9976 - accuracy: 0.7519 - val_loss: 1.1068 - val_accuracy: 0.7292\n",
      "Epoch 18/45\n",
      "3/3 [==============================] - 0s 163ms/step - loss: 0.9895 - accuracy: 0.7519 - val_loss: 1.0911 - val_accuracy: 0.7292\n",
      "Epoch 19/45\n",
      "3/3 [==============================] - 0s 139ms/step - loss: 0.9783 - accuracy: 0.7519 - val_loss: 1.0881 - val_accuracy: 0.7292\n",
      "Epoch 20/45\n",
      "3/3 [==============================] - 0s 131ms/step - loss: 0.9704 - accuracy: 0.7519 - val_loss: 1.0847 - val_accuracy: 0.7292\n",
      "Epoch 21/45\n",
      "3/3 [==============================] - 0s 137ms/step - loss: 0.9619 - accuracy: 0.7519 - val_loss: 1.0858 - val_accuracy: 0.7292\n",
      "Epoch 22/45\n",
      "3/3 [==============================] - 0s 136ms/step - loss: 0.9554 - accuracy: 0.7519 - val_loss: 1.0843 - val_accuracy: 0.7292\n",
      "Epoch 23/45\n",
      "3/3 [==============================] - 0s 140ms/step - loss: 0.9482 - accuracy: 0.7519 - val_loss: 1.0896 - val_accuracy: 0.7292\n",
      "Epoch 24/45\n",
      "3/3 [==============================] - 0s 144ms/step - loss: 0.9436 - accuracy: 0.7519 - val_loss: 1.0851 - val_accuracy: 0.7292\n",
      "Epoch 25/45\n",
      "3/3 [==============================] - 0s 140ms/step - loss: 0.9366 - accuracy: 0.7518 - val_loss: 1.0889 - val_accuracy: 0.7292\n",
      "Epoch 26/45\n",
      "3/3 [==============================] - 0s 145ms/step - loss: 0.9320 - accuracy: 0.7518 - val_loss: 1.0844 - val_accuracy: 0.7292\n",
      "Epoch 27/45\n",
      "3/3 [==============================] - 0s 143ms/step - loss: 0.9260 - accuracy: 0.7518 - val_loss: 1.0815 - val_accuracy: 0.7292\n",
      "Epoch 28/45\n",
      "3/3 [==============================] - 0s 141ms/step - loss: 0.9208 - accuracy: 0.7519 - val_loss: 1.0772 - val_accuracy: 0.7292\n",
      "Epoch 29/45\n",
      "3/3 [==============================] - 0s 133ms/step - loss: 0.9162 - accuracy: 0.7519 - val_loss: 1.0689 - val_accuracy: 0.7292\n",
      "Epoch 30/45\n",
      "3/3 [==============================] - 0s 133ms/step - loss: 0.9104 - accuracy: 0.7519 - val_loss: 1.0663 - val_accuracy: 0.7292\n",
      "Epoch 31/45\n",
      "3/3 [==============================] - 0s 131ms/step - loss: 0.9066 - accuracy: 0.7519 - val_loss: 1.0587 - val_accuracy: 0.7292\n",
      "Epoch 32/45\n",
      "3/3 [==============================] - 0s 138ms/step - loss: 0.9010 - accuracy: 0.7519 - val_loss: 1.0545 - val_accuracy: 0.7292\n",
      "Epoch 33/45\n",
      "3/3 [==============================] - 0s 138ms/step - loss: 0.8968 - accuracy: 0.7519 - val_loss: 1.0483 - val_accuracy: 0.7292\n",
      "Epoch 34/45\n",
      "3/3 [==============================] - 0s 135ms/step - loss: 0.8925 - accuracy: 0.7519 - val_loss: 1.0376 - val_accuracy: 0.7292\n",
      "Epoch 35/45\n",
      "3/3 [==============================] - 0s 136ms/step - loss: 0.8866 - accuracy: 0.7519 - val_loss: 1.0309 - val_accuracy: 0.7292\n",
      "Epoch 36/45\n",
      "3/3 [==============================] - 0s 133ms/step - loss: 0.8820 - accuracy: 0.7519 - val_loss: 1.0238 - val_accuracy: 0.7292\n",
      "Epoch 37/45\n",
      "3/3 [==============================] - 0s 143ms/step - loss: 0.8774 - accuracy: 0.7519 - val_loss: 1.0089 - val_accuracy: 0.7292\n",
      "Epoch 38/45\n",
      "3/3 [==============================] - 0s 144ms/step - loss: 0.8692 - accuracy: 0.7519 - val_loss: 0.9998 - val_accuracy: 0.7292\n",
      "Epoch 39/45\n",
      "3/3 [==============================] - 0s 135ms/step - loss: 0.8615 - accuracy: 0.7519 - val_loss: 0.9987 - val_accuracy: 0.7292\n",
      "Epoch 40/45\n",
      "3/3 [==============================] - 0s 141ms/step - loss: 0.8568 - accuracy: 0.7519 - val_loss: 0.9832 - val_accuracy: 0.7292\n",
      "Epoch 41/45\n",
      "3/3 [==============================] - 0s 137ms/step - loss: 0.8470 - accuracy: 0.7519 - val_loss: 0.9622 - val_accuracy: 0.7292\n",
      "Epoch 42/45\n",
      "3/3 [==============================] - 0s 143ms/step - loss: 0.8355 - accuracy: 0.7519 - val_loss: 0.9358 - val_accuracy: 0.7292\n",
      "Epoch 43/45\n",
      "3/3 [==============================] - 0s 133ms/step - loss: 0.8456 - accuracy: 0.7519 - val_loss: 0.9328 - val_accuracy: 0.7292\n",
      "Epoch 44/45\n",
      "3/3 [==============================] - 0s 135ms/step - loss: 0.8285 - accuracy: 0.7519 - val_loss: 0.9470 - val_accuracy: 0.7292\n",
      "Epoch 45/45\n",
      "3/3 [==============================] - 0s 136ms/step - loss: 0.8259 - accuracy: 0.7519 - val_loss: 0.9428 - val_accuracy: 0.7292\n"
     ]
    }
   ],
   "source": [
    "history = model.fit(X_train, y_train_cat, batch_size = 16, epochs=45, \n",
    "                    validation_data=(X_test, y_test_cat), \n",
    "                    #class_weight=weight,\n",
    "                    shuffle=False)"
   ]
  },
  {
   "cell_type": "code",
   "execution_count": 14,
   "metadata": {},
   "outputs": [
    {
     "name": "stdout",
     "output_type": "stream",
     "text": [
      "1/1 [==============================] - 0s 70ms/step - loss: 0.9428 - accuracy: 0.7292\n",
      "Accuracy is =  72.92455434799194 %\n"
     ]
    }
   ],
   "source": [
    "_, acc = model.evaluate(X_test, y_test_cat)\n",
    "print(\"Accuracy is = \", (acc * 100.0), \"%\")"
   ]
  },
  {
   "cell_type": "code",
   "execution_count": 15,
   "metadata": {},
   "outputs": [
    {
     "name": "stdout",
     "output_type": "stream",
     "text": [
      "1/1 [==============================] - 0s 268ms/step\n"
     ]
    },
    {
     "name": "stderr",
     "output_type": "stream",
     "text": [
      "2023-05-21 15:42:51.906010: I tensorflow/core/grappler/optimizers/custom_graph_optimizer_registry.cc:114] Plugin optimizer for device_type GPU is enabled.\n"
     ]
    }
   ],
   "source": [
    "y_pred=model.predict(X_test)\n",
    "y_pred_argmax=np.argmax(y_pred, axis=3)"
   ]
  },
  {
   "cell_type": "code",
   "execution_count": 19,
   "metadata": {},
   "outputs": [
    {
     "data": {
      "text/plain": [
       "<matplotlib.image.AxesImage at 0x2f26361c0>"
      ]
     },
     "execution_count": 19,
     "metadata": {},
     "output_type": "execute_result"
    },
    {
     "data": {
      "image/png": "[encoded data removed]",
      "text/plain": [
       "<Figure size 640x480 with 1 Axes>"
      ]
     },
     "metadata": {},
     "output_type": "display_data"
    }
   ],
   "source": [
    "plt.imshow(y_pred_argmax[3]*255)"
   ]
  },
  {
   "cell_type": "code",
   "execution_count": 17,
   "metadata": {},
   "outputs": [
    {
     "name": "stdout",
     "output_type": "stream",
     "text": [
      "1/1 [==============================] - 0s 79ms/step - loss: 0.9428 - accuracy: 0.7292\n",
      "Accuracy is =  72.92455434799194 %\n"
     ]
    },
    {
     "data": {
      "image/png": "[encoded data removed]",
      "text/plain": [
       "<Figure size 640x480 with 1 Axes>"
      ]
     },
     "metadata": {},
     "output_type": "display_data"
    }
   ],
   "source": [
    "_, acc = model.evaluate(X_test, y_test_cat)\n",
    "print(\"Accuracy is = \", (acc * 100.0), \"%\")\n",
    "\n",
    "\n",
    "###\n",
    "#plot the training and validation accuracy and loss at each epoch\n",
    "loss = history.history['loss']\n",
    "val_loss = history.history['val_loss']\n",
    "epochs = range(1, len(loss) + 1)\n",
    "plt.plot(epochs, loss, 'y', label='Training loss')\n",
    "plt.plot(epochs, val_loss, 'r', label='Validation loss')\n",
    "plt.title('Training and validation loss')\n",
    "plt.xlabel('Epochs')\n",
    "plt.ylabel('Loss')\n",
    "plt.legend()\n",
    "plt.show()"
   ]
  },
  {
   "cell_type": "code",
   "execution_count": 16,
   "metadata": {},
   "outputs": [
    {
     "ename": "KeyError",
     "evalue": "'acc'",
     "output_type": "error",
     "traceback": [
      "\u001b[0;31m---------------------------------------------------------------------------\u001b[0m",
      "\u001b[0;31mKeyError\u001b[0m                                  Traceback (most recent call last)",
      "Cell \u001b[0;32mIn[16], line 1\u001b[0m\n\u001b[0;32m----> 1\u001b[0m acc \u001b[39m=\u001b[39m history\u001b[39m.\u001b[39;49mhistory[\u001b[39m'\u001b[39;49m\u001b[39macc\u001b[39;49m\u001b[39m'\u001b[39;49m]\n\u001b[1;32m      2\u001b[0m val_acc \u001b[39m=\u001b[39m history\u001b[39m.\u001b[39mhistory[\u001b[39m'\u001b[39m\u001b[39mval_acc\u001b[39m\u001b[39m'\u001b[39m]\n\u001b[1;32m      4\u001b[0m plt\u001b[39m.\u001b[39mplot(epochs, acc, \u001b[39m'\u001b[39m\u001b[39my\u001b[39m\u001b[39m'\u001b[39m, label\u001b[39m=\u001b[39m\u001b[39m'\u001b[39m\u001b[39mTraining Accuracy\u001b[39m\u001b[39m'\u001b[39m)\n",
      "\u001b[0;31mKeyError\u001b[0m: 'acc'"
     ]
    }
   ],
   "source": [
    "acc = history.history['acc']\n",
    "val_acc = history.history['val_acc']\n",
    "\n",
    "plt.plot(epochs, acc, 'y', label='Training Accuracy')\n",
    "plt.plot(epochs, val_acc, 'r', label='Validation Accuracy')\n",
    "plt.title('Training and validation Accuracy')\n",
    "plt.xlabel('Epochs')\n",
    "plt.ylabel('Accuracy')\n",
    "plt.legend()\n",
    "plt.show()"
   ]
  },
  {
   "cell_type": "code",
   "execution_count": null,
   "metadata": {},
   "outputs": [],
   "source": []
  }
 ],
 "metadata": {
  "kernelspec": {
   "display_name": "Python 3 (ipykernel)",
   "language": "python",
   "name": "python3"
  }
 },
 "nbformat": 4,
 "nbformat_minor": 4
}
